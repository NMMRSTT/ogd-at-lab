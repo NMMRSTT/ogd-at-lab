{
 "cells": [
  {
   "cell_type": "markdown",
   "metadata": {},
   "source": [
    "# Welcome to the OGD.AT Lab!"
   ]
  },
  {
   "cell_type": "markdown",
   "metadata": {},
   "source": [
    "<a href=\"https://data.gv.at\"><img align=\"right\" src=\"./img/data-gv-at.png\"></a>\n",
    "\n",
    "This lab provides **Jupyter notebooks** for working with **Austrian open government data** and other auxilliary open data sources. \n",
    "\n",
    "\n",
    "## Lab notebooks\n",
    "\n",
    "1. [Accessing geodata from data.wien.gv.at services](wien-ogd.ipynb)\n",
    "1. [Environmental conditions in Vienna](environment.ipynb)\n",
    "1. [Geocoding addresses](geocoding.ipynb)\n",
    "1. [Getting elevation information](elevation.ipynb)"
   ]
  }
 ],
 "metadata": {
  "kernelspec": {
   "display_name": "Python 3",
   "language": "python",
   "name": "python3"
  },
  "language_info": {
   "codemirror_mode": {
    "name": "ipython",
    "version": 3
   },
   "file_extension": ".py",
   "mimetype": "text/x-python",
   "name": "python",
   "nbconvert_exporter": "python",
   "pygments_lexer": "ipython3",
   "version": "3.7.8"
  }
 },
 "nbformat": 4,
 "nbformat_minor": 4
}
